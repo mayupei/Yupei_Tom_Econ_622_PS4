{
 "cells": [
  {
   "cell_type": "markdown",
   "metadata": {},
   "source": [
    "### Yupei Ma"
   ]
  },
  {
   "source": [
    "This is Tom and I added something here"
   ],
   "cell_type": "markdown",
   "metadata": {}
  },
  {
   "cell_type": "code",
   "execution_count": 1,
   "metadata": {},
   "outputs": [
    {
     "name": "stdout",
     "output_type": "stream",
     "text": [
      "\u001b[32m\u001b[1mActivated\u001b[0m C:\\Users\\mazupei\\Documents\\GitHub\\quantecon-notebooks-julia\\Project.toml\u001b[39m\n",
      "\u001b[36m\u001b[1mInfo\u001b[0m Project name is quantecon-notebooks-julia, version is 0.8.0\u001b[39m\n"
     ]
    }
   ],
   "source": [
    "using InstantiateFromURL\n",
    "# optionally add arguments to force installation: instantiate = true, precompile = true\n",
    "github_project(\"QuantEcon/quantecon-notebooks-julia\", version = \"0.8.0\")"
   ]
  },
  {
   "cell_type": "code",
   "execution_count": 2,
   "metadata": {},
   "outputs": [],
   "source": [
    "using LinearAlgebra, Statistics, NLsolve"
   ]
  },
  {
   "cell_type": "markdown",
   "metadata": {},
   "source": [
    "### Exercise 4\n",
    "\n",
    "Redo Exercise 1 using the `fixedpoint` function from `NLsolve` [this lecture](julia_by_example.html).\n",
    "\n",
    "Compare the number of iterations of the NLsolve’s Anderson Acceleration to the handcoded iteration used in Exercise 1.\n",
    "\n",
    "Hint: Convert the matrix to a vector to use `fixedpoint`. e.g. `A = [1 2; 3 4]` then `x = reshape(A, 4)` turns it into a vector.  To reverse, `reshape(x, 2, 2)`."
   ]
  },
  {
   "cell_type": "code",
   "execution_count": 3,
   "metadata": {},
   "outputs": [
    {
     "data": {
      "text/plain": [
       "asy_var (generic function with 1 method)"
      ]
     },
     "execution_count": 3,
     "metadata": {},
     "output_type": "execute_result"
    }
   ],
   "source": [
    "function asy_var(A,Σ,maxiter,tolerance)\n",
    "    s0=ones(size(A*A'))\n",
    "    s_old=s0\n",
    "    normdiff=Inf\n",
    "    iter=0\n",
    "    while normdiff>tolerance && iter<=maxiter\n",
    "        s_new=A*s_old*A'+Σ*Σ'\n",
    "        normdiff=norm(s_new-s_old)\n",
    "        s_old=s_new\n",
    "        iter=iter+1\n",
    "    end\n",
    "    return (s_old, normdiff, iter)\n",
    "end"
   ]
  },
  {
   "cell_type": "code",
   "execution_count": 4,
   "metadata": {},
   "outputs": [
    {
     "name": "stdout",
     "output_type": "stream",
     "text": [
      "iter_mine = 61\n"
     ]
    },
    {
     "data": {
      "text/plain": [
       "61"
      ]
     },
     "execution_count": 4,
     "metadata": {},
     "output_type": "execute_result"
    }
   ],
   "source": [
    "A=[0.8 -0.2; -0.1 0.7];\n",
    "Σ=[0.5 0.4; 0.4 0.6];\n",
    "maxiter = 1000;\n",
    "tolerance = 1.0E-7;\n",
    "s_old, normdiff, iter_mine=asy_var(A,Σ,maxiter,tolerance);\n",
    "@show iter_mine"
   ]
  },
  {
   "cell_type": "code",
   "execution_count": 5,
   "metadata": {},
   "outputs": [
    {
     "data": {
      "text/plain": [
       "Results of Nonlinear Solver Algorithm\n",
       " * Algorithm: Anderson m=4 beta=1 aa_start=1 droptol=0\n",
       " * Starting Point: [1.0, 1.0, 1.0, 1.0]\n",
       " * Zero: [0.6712314073226553, 0.6334739702517153, 0.6334739702517151, 0.8588744279176213]\n",
       " * Inf-norm of residuals: 0.000000\n",
       " * Iterations: 5\n",
       " * Convergence: true\n",
       "   * |x - x'| < 0.0e+00: false\n",
       "   * |f(x)| < 1.0e-08: true\n",
       " * Function Calls (f): 5\n",
       " * Jacobian Calls (df/dx): 0"
      ]
     },
     "execution_count": 5,
     "metadata": {},
     "output_type": "execute_result"
    }
   ],
   "source": [
    "function f!(y, s)\n",
    "           y .= reshape(A*reshape(s,2,2)*A'+Σ*Σ',4)\n",
    "       end\n",
    "sol = NLsolve.fixedpoint(f!, ones(4))"
   ]
  }
 ],
 "metadata": {
  "kernelspec": {
   "display_name": "Julia 1.5.1",
   "language": "julia",
   "name": "julia-1.5"
  },
  "language_info": {
   "file_extension": ".jl",
   "mimetype": "application/julia",
   "name": "julia",
   "version": "1.5.1"
  }
 },
 "nbformat": 4,
 "nbformat_minor": 4
}