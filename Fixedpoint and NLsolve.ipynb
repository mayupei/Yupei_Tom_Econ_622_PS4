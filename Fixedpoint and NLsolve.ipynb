{
 "cells": [
  {
   "source": [
    "### Yupei Ma"
   ],
   "cell_type": "markdown",
   "metadata": {}
  },
  {
   "source": [
    "This is Tom and I changed this."
   ],
   "cell_type": "markdown",
   "metadata": {}
  },
  {
   "source": [
    "using InstantiateFromURL\n",
    "# optionally add arguments to force installation: instantiate = true, precompile = true\n",
    "github_project(\"QuantEcon/quantecon-notebooks-julia\", version = \"0.8.0\")"
   ],
   "cell_type": "code",
   "metadata": {},
   "execution_count": null,
   "outputs": []
  },
  {
   "cell_type": "code",
   "execution_count": 4,
   "metadata": {},
   "outputs": [],
   "source": [
    "using LinearAlgebra, Statistics, NLsolve"
   ]
  },
  {
   "cell_type": "markdown",
   "metadata": {},
   "source": [
    "### Exercise 4\n",
    "\n",
    "Redo Exercise 1 using the `fixedpoint` function from `NLsolve` [this lecture](julia_by_example.html).\n",
    "\n",
    "Compare the number of iterations of the NLsolve’s Anderson Acceleration to the handcoded iteration used in Exercise 1.\n",
    "\n",
    "Hint: Convert the matrix to a vector to use `fixedpoint`. e.g. `A = [1 2; 3 4]` then `x = reshape(A, 4)` turns it into a vector.  To reverse, `reshape(x, 2, 2)`."
   ]
  },
  {
   "cell_type": "code",
   "execution_count": 5,
   "metadata": {},
   "outputs": [
    {
     "output_type": "execute_result",
     "data": {
      "text/plain": [
       "asy_var (generic function with 1 method)"
      ]
     },
     "metadata": {},
     "execution_count": 5
    }
   ],
   "source": [
    "function asy_var(A,Σ,maxiter,tolerance)\n",
    "    s0=ones(size(A*A'))\n",
    "    s_old=s0\n",
    "    normdiff=Inf\n",
    "    iter=0\n",
    "    while normdiff>tolerance && iter<=maxiter\n",
    "        s_new=A*s_old*A'+Σ*Σ'\n",
    "        normdiff=norm(s_new-s_old)\n",
    "        s_old=s_new\n",
    "        iter=iter+1\n",
    "    end\n",
    "    return (s_old, normdiff, iter)\n",
    "end"
   ]
  },
  {
   "cell_type": "code",
   "execution_count": 6,
   "metadata": {},
   "outputs": [
    {
     "output_type": "stream",
     "name": "stdout",
     "text": [
      "iter_mine = 61\n"
     ]
    },
    {
     "output_type": "execute_result",
     "data": {
      "text/plain": [
       "61"
      ]
     },
     "metadata": {},
     "execution_count": 6
    }
   ],
   "source": [
    "A=[0.8 -0.2; -0.1 0.7];\n",
    "Σ=[0.5 0.4; 0.4 0.6];\n",
    "maxiter = 1000;\n",
    "tolerance = 1.0E-7;\n",
    "s_old, normdiff, iter_mine=asy_var(A,Σ,maxiter,tolerance);\n",
    "@show iter_mine"
   ]
  },
  {
   "cell_type": "code",
   "execution_count": 7,
   "metadata": {},
   "outputs": [
    {
     "output_type": "execute_result",
     "data": {
      "text/plain": [
       "Results of Nonlinear Solver Algorithm\n",
       " * Algorithm: Anderson m=4 beta=1 aa_start=1 droptol=0\n",
       " * Starting Point: [1.0, 1.0, 1.0, 1.0]\n",
       " * Zero: [0.6712314073226553, 0.6334739702517153, 0.6334739702517151, 0.8588744279176213]\n",
       " * Inf-norm of residuals: 0.000000\n",
       " * Iterations: 5\n",
       " * Convergence: true\n",
       "   * |x - x'| < 0.0e+00: false\n",
       "   * |f(x)| < 1.0e-08: true\n",
       " * Function Calls (f): 5\n",
       " * Jacobian Calls (df/dx): 0"
      ]
     },
     "metadata": {},
     "execution_count": 7
    }
   ],
   "source": [
    "function f!(y, s)\n",
    "           y .= reshape(A*reshape(s,2,2)*A'+Σ*Σ',4)\n",
    "       end\n",
    "sol = NLsolve.fixedpoint(f!, ones(4))"
   ]
  }
 ],
 "metadata": {
  "kernelspec": {
   "display_name": "Julia 1.5.1",
   "language": "julia",
   "name": "julia-1.5"
  },
  "language_info": {
   "file_extension": ".jl",
   "mimetype": "application/julia",
   "name": "julia",
   "version": "3.7.6-final"
  }
 },
 "nbformat": 4,
 "nbformat_minor": 4
}